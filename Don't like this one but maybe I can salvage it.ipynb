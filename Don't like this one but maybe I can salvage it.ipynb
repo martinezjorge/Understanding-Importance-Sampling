{
 "cells": [
  {
   "cell_type": "markdown",
   "metadata": {},
   "source": [
    "# Understanding Importance Sampling"
   ]
  },
  {
   "cell_type": "code",
   "execution_count": 1,
   "metadata": {},
   "outputs": [],
   "source": [
    "import numpy as np\n",
    "import matplotlib.pyplot as plt"
   ]
  },
  {
   "cell_type": "code",
   "execution_count": null,
   "metadata": {},
   "outputs": [],
   "source": [
    "# np.random.choice(np.arange(self.size), size=self.batch_size, replace=False, p=fair_dice)"
   ]
  },
  {
   "cell_type": "markdown",
   "metadata": {},
   "source": [
    "Modeling a fair and biased dice as $f(x)$ and $g(x)$, respectively."
   ]
  },
  {
   "cell_type": "code",
   "execution_count": 25,
   "metadata": {},
   "outputs": [],
   "source": [
    "def f(x):\n",
    "    fair_dice = np.ones(6)*(1/6)\n",
    "    return fair_dice[x]"
   ]
  },
  {
   "cell_type": "code",
   "execution_count": 28,
   "metadata": {},
   "outputs": [],
   "source": [
    "def g(x):\n",
    "    biased_dice = np.array([0.3,0.25,0.2,0.125,0.075,0.05])\n",
    "    return biased_dice[x]"
   ]
  },
  {
   "cell_type": "markdown",
   "metadata": {},
   "source": [
    "We can get their expectation using the population mean.\n",
    "\n",
    "$$\\mathbb{E}_f[x]=\\sum_{x}{xf(x)}$$\n",
    "\n",
    "and\n",
    "\n",
    "$$\\mathbb{E}_g[x]=\\sum_{x}{xg(x)}$$"
   ]
  },
  {
   "cell_type": "code",
   "execution_count": 32,
   "metadata": {},
   "outputs": [
    {
     "name": "stdout",
     "output_type": "stream",
     "text": [
      "3.5\n"
     ]
    }
   ],
   "source": [
    "exp_f = 0\n",
    "for i in range(len(fair_dice)):\n",
    "    exp_f += (i+1)*f(i)\n",
    "print(exp_f)"
   ]
  },
  {
   "cell_type": "code",
   "execution_count": 34,
   "metadata": {},
   "outputs": [
    {
     "name": "stdout",
     "output_type": "stream",
     "text": [
      "2.575\n"
     ]
    }
   ],
   "source": [
    "exp_g = 0\n",
    "for i in range(len(unfair_dice)):\n",
    "    exp_g += (i+1)*g(i)\n",
    "print(exp_g)"
   ]
  },
  {
   "cell_type": "markdown",
   "metadata": {},
   "source": [
    "What if we didn't have the distribution though? How would we then calculate the mean of the dice?\n",
    "\n",
    "We could estimate it using the sample mean, $\\bar{x}$, by sampling the unknown probability distribution.\n",
    "\n",
    "$$\\bar{x} = \\dfrac{1}{n}\\sum_{i=1}^{n}x_{i}^{f}$$"
   ]
  },
  {
   "cell_type": "markdown",
   "metadata": {},
   "source": [
    "Suppose we only had access to the fair die but not the biased die and we wanted to work out the mean of the biased one. Could we still nontheless come up with a decent approximation of the mean of the biased die?"
   ]
  },
  {
   "cell_type": "markdown",
   "metadata": {},
   "source": [
    "$$\\mathbb{E}_{g}[x]=\\sum_{x}xg(x)=\\sum_{x}x\\dfrac{g(x)}{f(x)}f(x)=\\mathbb{E}_{f}\\left[x\\dfrac{g(x)}{f(x)}\\right]=\\dfrac{1}{n}\\sum_{i=1}^{n}x_{i}\\dfrac{g(x_i)}{f(x_i)}$$"
   ]
  },
  {
   "cell_type": "markdown",
   "metadata": {},
   "source": [
    "So the idea is that because we're taking the expectation with respect to the fair die. We can just throw the fair die a number of times and come up with the expectation by calculating the ratio between the fair and bias distributions."
   ]
  },
  {
   "cell_type": "code",
   "execution_count": null,
   "metadata": {},
   "outputs": [],
   "source": []
  }
 ],
 "metadata": {
  "kernelspec": {
   "display_name": "Python 3",
   "language": "python",
   "name": "python3"
  },
  "language_info": {
   "codemirror_mode": {
    "name": "ipython",
    "version": 3
   },
   "file_extension": ".py",
   "mimetype": "text/x-python",
   "name": "python",
   "nbconvert_exporter": "python",
   "pygments_lexer": "ipython3",
   "version": "3.6.9"
  }
 },
 "nbformat": 4,
 "nbformat_minor": 4
}
